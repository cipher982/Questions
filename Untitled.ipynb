{
 "cells": [
  {
   "cell_type": "code",
   "execution_count": 9,
   "metadata": {},
   "outputs": [],
   "source": [
    "#import findspark\n",
    "#findspark.init()\n",
    "\n",
    "import pandas as pd\n",
    "from pyspark.sql.functions import udf, monotonically_increasing_id\n",
    "from datetime import datetime\n",
    "import random\n",
    "from word2number import w2n\n",
    "\n",
    "from pyspark.sql import DataFrameStatFunctions as statFunc\n",
    "import pyspark.sql.functions as func\n",
    "import re\n",
    "from pyspark import SparkContext, SparkConf, SQLContext\n",
    "\n",
    "sc = SparkContext()\n",
    "sqlContext = SQLContext(sc)\n"
   ]
  },
  {
   "cell_type": "code",
   "execution_count": null,
   "metadata": {},
   "outputs": [],
   "source": [
    "sqlContext.sql"
   ]
  },
  {
   "cell_type": "code",
   "execution_count": 35,
   "metadata": {},
   "outputs": [],
   "source": [
    "df_pandas = pd.DataFrame({\"Input 1\" : ['Green','Green','Blue','Red','Yellow','Red','Red','Blue'],\n",
    "                          \"Input 2\" : ['1','0','4','5','7','9','6','5'],\n",
    "                          \"Input 3\" : ['1.3','1.445','1.2','1.3','1.325','1.4','1.72158','1'],\n",
    "                          \"Description\" : ['DescriptionONE','DescriptionONE','DescriptionTWO','Description THREE','Description Four','DescriptionONE','Description THREE','DescriptionONE']   \n",
    "                         })\n",
    "df1 = sqlContext.createDataFrame(df_pandas)"
   ]
  },
  {
   "cell_type": "code",
   "execution_count": 45,
   "metadata": {},
   "outputs": [
    {
     "name": "stdout",
     "output_type": "stream",
     "text": [
      "+-----------------+-------+-------+-------+\n",
      "|      Description|Input 1|Input 2|Input 3|\n",
      "+-----------------+-------+-------+-------+\n",
      "|   DescriptionONE|  Green|      1|    1.3|\n",
      "|   DescriptionONE|  Green|      0|  1.445|\n",
      "|   DescriptionTWO|   Blue|      4|    1.2|\n",
      "|Description THREE|    Red|      5|    1.3|\n",
      "| Description Four| Yellow|      7|  1.325|\n",
      "|   DescriptionONE|    Red|      9|    1.4|\n",
      "|Description THREE|    Red|      6|1.72158|\n",
      "|   DescriptionONE|   Blue|      5|      1|\n",
      "+-----------------+-------+-------+-------+\n",
      "\n"
     ]
    }
   ],
   "source": [
    "df1.show()"
   ]
  },
  {
   "cell_type": "code",
   "execution_count": 377,
   "metadata": {},
   "outputs": [
    {
     "name": "stdout",
     "output_type": "stream",
     "text": [
      "+----------------+-------+-------+-------+\n",
      "|     Description|Input 1|Input 2|Input 3|\n",
      "+----------------+-------+-------+-------+\n",
      "|  DescriptionONE|  Green|      1|    1.3|\n",
      "|  DescriptionONE|  Green|      0|  1.445|\n",
      "|  DescriptionTWO|   Blue|      4|    1.2|\n",
      "|DescriptionTHREE|    Red|      5|    1.3|\n",
      "| DescriptionFOUR| Yellow|      7|  1.325|\n",
      "|  DescriptionONE|    Red|      9|    1.4|\n",
      "|DescriptionTHREE|    Red|      6|1.72158|\n",
      "|  DescriptionONE|   Blue|      5|      1|\n",
      "+----------------+-------+-------+-------+\n",
      "\n"
     ]
    }
   ],
   "source": [
    "def step_2a(string):\n",
    "    return re.sub('Description THREE', 'DescriptionTHREE', string)\n",
    "step_2a=func.udf(step_2a)\n",
    "\n",
    "def step_2b(string):\n",
    "    return re.sub('Description Four', 'DescriptionFOUR', string)\n",
    "step_2b=func.udf(step_2b)\n",
    "\n",
    "df2 = df1.withColumn('Description', step_2b(step_2a(df1['Description'])))\n",
    "df2.show()"
   ]
  },
  {
   "cell_type": "code",
   "execution_count": 258,
   "metadata": {},
   "outputs": [
    {
     "name": "stdout",
     "output_type": "stream",
     "text": [
      "+----------------+-------+-------+-------+\n",
      "|     Description|Input 1|Input 2|Input 3|\n",
      "+----------------+-------+-------+-------+\n",
      "|  DescriptionONE|  Green|      1| 1.3000|\n",
      "|  DescriptionONE|  Green|      0| 1.4450|\n",
      "|  DescriptionTWO|   Blue|      4| 1.2000|\n",
      "|DescriptionTHREE|    Red|      5| 1.3000|\n",
      "| DescriptionFOUR| Yellow|      7| 1.3250|\n",
      "|  DescriptionONE|    Red|      9| 1.4000|\n",
      "|DescriptionTHREE|    Red|      6| 1.7216|\n",
      "|  DescriptionONE|   Blue|      5| 1.0000|\n",
      "+----------------+-------+-------+-------+\n",
      "\n"
     ]
    }
   ],
   "source": [
    "df3 = df2.withColumn('Input 3', df2['Input 3'].cast(DoubleType()))\n",
    "df3 = df3.withColumn('Input 3', func.format_number(df3['Input 3'], 4))\n",
    "df3 = df3.withColumn('Input 3', df3['Input 3'].cast(StringType()))\n",
    "\n",
    "df3.show()"
   ]
  },
  {
   "cell_type": "code",
   "execution_count": 67,
   "metadata": {},
   "outputs": [
    {
     "name": "stdout",
     "output_type": "stream",
     "text": [
      "+-------+----------+\n",
      "|Input 1|Day Period|\n",
      "+-------+----------+\n",
      "|  Green|     Night|\n",
      "| Yellow|   Morning|\n",
      "|    Red| Afternoon|\n",
      "|   Blue|   Evening|\n",
      "+-------+----------+\n",
      "\n"
     ]
    }
   ],
   "source": [
    "df_pandas = pd.DataFrame({'col1' : ['Green','Yellow','Red','Blue'],\n",
    "                          'col2' : ['Night','Morning','Afternoon','Evening']   \n",
    "                         })\n",
    "df4 = sqlContext.createDataFrame(df_pandas)\n",
    "df5 = df4.withColumnRenamed(\"col1\", \"Input 1\")\\\n",
    "         .withColumnRenamed(\"col2\", \"Day Period\")\n",
    "df5.show()\n"
   ]
  },
  {
   "cell_type": "code",
   "execution_count": 199,
   "metadata": {},
   "outputs": [
    {
     "name": "stdout",
     "output_type": "stream",
     "text": [
      "+-------+----------------+-------+-------+----------+\n",
      "|Input 1|     Description|Input 2|Input 3|Day Period|\n",
      "+-------+----------------+-------+-------+----------+\n",
      "|  Green|  DescriptionONE|      1| 1.3000|     Night|\n",
      "|  Green|  DescriptionONE|      0| 1.4450|     Night|\n",
      "|   Blue|  DescriptionTWO|      4| 1.2000|   Evening|\n",
      "|   Blue|  DescriptionONE|      5| 1.0000|   Evening|\n",
      "| Yellow| DescriptionFOUR|      7| 1.3250|   Morning|\n",
      "|    Red|DescriptionTHREE|      5| 1.3000| Afternoon|\n",
      "|    Red|  DescriptionONE|      9| 1.4000| Afternoon|\n",
      "|    Red|DescriptionTHREE|      6| 1.7216| Afternoon|\n",
      "+-------+----------------+-------+-------+----------+\n",
      "\n"
     ]
    }
   ],
   "source": [
    "df6 = df3.join(df5, \"Input 1\", \"left\")\n",
    "df6.show()"
   ]
  },
  {
   "cell_type": "code",
   "execution_count": 369,
   "metadata": {},
   "outputs": [
    {
     "name": "stdout",
     "output_type": "stream",
     "text": [
      "+-------+----------------+-------+-------+----------+----------+\n",
      "|Input 1|     Description|Input 2|Input 3|Day Period|      Date|\n",
      "+-------+----------------+-------+-------+----------+----------+\n",
      "|  Green|  DescriptionONE|      1| 1.3000|     Night|0843-07-30|\n",
      "|  Green|  DescriptionONE|      0| 1.4450|     Night|1691-05-24|\n",
      "|   Blue|  DescriptionTWO|      4| 1.2000|   Evening|0298-07-15|\n",
      "|   Blue|  DescriptionONE|      5| 1.0000|   Evening|0505-07-31|\n",
      "| Yellow| DescriptionFOUR|      7| 1.3250|   Morning|1448-04-15|\n",
      "|    Red|DescriptionTHREE|      5| 1.3000| Afternoon|0970-05-02|\n",
      "|    Red|  DescriptionONE|      9| 1.4000| Afternoon|1952-06-02|\n",
      "|    Red|DescriptionTHREE|      6| 1.7216| Afternoon|1056-04-07|\n",
      "+-------+----------------+-------+-------+----------+----------+\n",
      "\n"
     ]
    }
   ],
   "source": [
    "def step_7(idx):\n",
    "    random.seed(idx)\n",
    "    test = date.fromordinal(random.randint(0, date.today().toordinal()))\n",
    "    return str(test)\n",
    "step_7=func.udf(step_7)\n",
    "\n",
    "\n",
    "df7 = df6.withColumn(\"temp_index\", monotonically_increasing_id())\n",
    "df7 = df7.withColumn(\"Date\", step_7(df7['temp_index'])).drop(\"temp_index\")\n",
    "#df7 = df7.withColumn('Date', df7['Date'])\n",
    "df7.show()"
   ]
  },
  {
   "cell_type": "code",
   "execution_count": 314,
   "metadata": {},
   "outputs": [
    {
     "name": "stdout",
     "output_type": "stream",
     "text": [
      "+-------+----------------+-------+-------+----------+----------+\n",
      "|Input 1|     Description|Input 2|Input 3|Day Period|      Date|\n",
      "+-------+----------------+-------+-------+----------+----------+\n",
      "|  Green|  DescriptionONE|      0| 1.4450|     Night|1691-05-24|\n",
      "|    Red|  DescriptionONE|      9| 1.4000| Afternoon|1952-06-02|\n",
      "|    Red|DescriptionTHREE|      6| 1.7216| Afternoon|1056-04-07|\n",
      "+-------+----------------+-------+-------+----------+----------+\n",
      "\n"
     ]
    }
   ],
   "source": [
    "df8 = df7.filter((func.col('Input 3') >= 1.31))\\\n",
    "         .filter((func.col('Input 1') == 'Red') | (func.col('Input 1') == 'Green'))\n",
    "\n",
    "df8.show()"
   ]
  },
  {
   "cell_type": "code",
   "execution_count": 341,
   "metadata": {},
   "outputs": [
    {
     "name": "stdout",
     "output_type": "stream",
     "text": [
      "+-------+----------------+-------+-------+----------+----------+------------+\n",
      "|Input 1|     Description|Input 2|Input 3|Day Period|      Date|       date2|\n",
      "+-------+----------------+-------+-------+----------+----------+------------+\n",
      "|  Green|  DescriptionONE|      0| 1.4450|     Night|1691-05-24| -8791959600|\n",
      "|    Red|  DescriptionONE|      9| 1.4000| Afternoon|1952-06-02|  -554846400|\n",
      "|    Red|DescriptionTHREE|      6| 1.7216| Afternoon|1056-04-07|-28834167600|\n",
      "+-------+----------------+-------+-------+----------+----------+------------+\n",
      "\n",
      "+-------+----------------+-------+-------+----------+----------+----+\n",
      "|Input 1|     Description|Input 2|Input 3|Day Period|      Date|flag|\n",
      "+-------+----------------+-------+-------+----------+----------+----+\n",
      "|  Green|  DescriptionONE|      0| 1.4450|     Night|1691-05-24|   0|\n",
      "|    Red|  DescriptionONE|      9| 1.4000| Afternoon|1952-06-02|   1|\n",
      "|    Red|DescriptionTHREE|      6| 1.7216| Afternoon|1056-04-07|   0|\n",
      "+-------+----------------+-------+-------+----------+----------+----+\n",
      "\n"
     ]
    }
   ],
   "source": [
    "df9 = df8.withColumn('date2', func.unix_timestamp(df8[\"Date\"].cast(DateType())))\n",
    "df9.show()\n",
    "middle_date = statFunc(df9).approxQuantile(\"date2\", [0.5], 0)\n",
    "\n",
    "df9 = df9.withColumn(\"flag\", func.when((df9[\"date2\"] > middle_date[0]) & \\\n",
    "                                       (df9[\"Input 2\"] > 1),\n",
    "                                  value=1).otherwise(0)).drop('date2')\n",
    "df9.show()"
   ]
  },
  {
   "cell_type": "code",
   "execution_count": 408,
   "metadata": {},
   "outputs": [
    {
     "name": "stdout",
     "output_type": "stream",
     "text": [
      "+--------+\n",
      "|result_0|\n",
      "+--------+\n",
      "|    null|\n",
      "+--------+\n",
      "\n",
      "+--------+\n",
      "|result_1|\n",
      "+--------+\n",
      "|    null|\n",
      "+--------+\n",
      "\n",
      "+--------+\n",
      "|result_2|\n",
      "+--------+\n",
      "|    null|\n",
      "+--------+\n",
      "\n"
     ]
    }
   ],
   "source": [
    "def step_11(df1, df2):\n",
    "    try:\n",
    "        # Step 5 \n",
    "        df2 = df2.withColumnRenamed(\"col1\", \"Input 1\")\\\n",
    "                 .withColumnRenamed(\"col2\", \"Day Period\")\n",
    "    except:\n",
    "        print(\"Code failed on step 5\")\n",
    "    \n",
    "    # Step 6\n",
    "    try:\n",
    "        df = df1.join(df2, \"Input 1\", \"left\")\n",
    "    except:\n",
    "        print(\"Code failed on step 6\")\n",
    "    \n",
    "    # Step 7 \n",
    "    try:\n",
    "        def step_7(idx):\n",
    "            random.seed(idx)\n",
    "            test = date.fromordinal(random.randint(0, date.today().toordinal()))\n",
    "            return str(test)\n",
    "        step_7 = func.udf(step_7)\n",
    "        df = df.withColumn(\"temp_index\", monotonically_increasing_id())\n",
    "        df = df.withColumn(\"Date\", step_7(df['temp_index'])).drop(\"temp_index\")\n",
    "    except:\n",
    "        print(\"Code failed on step 7\")\n",
    "    \n",
    "    # Step 8\n",
    "    try:\n",
    "        df = df.filter((func.col('Input 3') >= 1.31))\\\n",
    "               .filter((func.col('Input 1') == 'Red') | (func.col('Input 1') == 'Green'))\n",
    "    except:\n",
    "        print(\"Code failed on step 8\")\n",
    "    \n",
    "    # Step 9\n",
    "    try:\n",
    "        df = df.withColumn('temp_date', func.unix_timestamp(df[\"Date\"].cast(DateType())))\n",
    "        middle_date = statFunc(df).approxQuantile(\"temp_date\", [0.5], 0)\n",
    "        df = df.withColumn(\"flag\", func.when((df[\"temp_date\"] > middle_date[0]) & \\\n",
    "                                             (df[\"Input 2\"] > 1),\n",
    "                                          value=1).otherwise(0)).drop('temp_date')\n",
    "    except:\n",
    "        print('Code failed on step 9')\n",
    "    \n",
    "    # Step 10\n",
    "    try:\n",
    "        result_list = {}\n",
    "        for i,row in enumerate(df.rdd.collect()):\n",
    "            input3 = row['Input 3']\n",
    "            desc = w2n.word_to_num(row['Description'].split('Description')[1])\n",
    "            input2_min = df.agg({\"Input 2\": \"min\"}).collect()[0]['min(Input 2)']\n",
    "            try:\n",
    "                result = (float(input3) + float(desc)) / (float(input2_min))\n",
    "            except ZeroDivisionError:\n",
    "                result = None\n",
    "            result_df = sqlContext.createDataFrame([result], \"string\").toDF(\"result_{}\".format(i))\n",
    "            result_df.show()\n",
    "            result_list['result_{}'.format(i)] = result_df\n",
    "        return result_list\n",
    "    except:\n",
    "        print(\"Code failed on step 10\")\n",
    "        return None\n",
    "\n",
    "final = step_11(df1=df3, df2=df4)"
   ]
  },
  {
   "cell_type": "code",
   "execution_count": 405,
   "metadata": {},
   "outputs": [
    {
     "name": "stdout",
     "output_type": "stream",
     "text": [
      "+--------+\n",
      "|result_0|\n",
      "+--------+\n",
      "|    null|\n",
      "+--------+\n",
      "\n"
     ]
    }
   ],
   "source": [
    "final['result_0'].show()"
   ]
  },
  {
   "cell_type": "code",
   "execution_count": null,
   "metadata": {},
   "outputs": [],
   "source": []
  }
 ],
 "metadata": {
  "kernelspec": {
   "display_name": "Python 3",
   "language": "python",
   "name": "python3"
  },
  "language_info": {
   "codemirror_mode": {
    "name": "ipython",
    "version": 3
   },
   "file_extension": ".py",
   "mimetype": "text/x-python",
   "name": "python",
   "nbconvert_exporter": "python",
   "pygments_lexer": "ipython3",
   "version": "3.6.1"
  }
 },
 "nbformat": 4,
 "nbformat_minor": 2
}
